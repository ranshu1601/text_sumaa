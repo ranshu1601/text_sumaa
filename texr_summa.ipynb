{
  "nbformat": 4,
  "nbformat_minor": 0,
  "metadata": {
    "colab": {
      "name": "texr_summa.ipynb",
      "provenance": [],
      "authorship_tag": "ABX9TyMwyb1jzOdL7CvBDDNcfREv",
      "include_colab_link": true
    },
    "kernelspec": {
      "name": "python3",
      "display_name": "Python 3"
    },
    "language_info": {
      "name": "python"
    }
  },
  "cells": [
    {
      "cell_type": "markdown",
      "metadata": {
        "id": "view-in-github",
        "colab_type": "text"
      },
      "source": [
        "<a href=\"https://colab.research.google.com/github/ranshu1601/text_sumaa/blob/main/texr_summa.ipynb\" target=\"_parent\"><img src=\"https://colab.research.google.com/assets/colab-badge.svg\" alt=\"Open In Colab\"/></a>"
      ]
    },
    {
      "cell_type": "code",
      "source": [
        "import nltk\n",
        "from nltk.corpus import stopwords\n",
        "nltk.download('stopwords')\n",
        "from nltk.cluster.util import cosine_distance\n",
        "import numpy as np\n",
        "import networkx as nx"
      ],
      "metadata": {
        "colab": {
          "base_uri": "https://localhost:8080/"
        },
        "id": "R1VcDVQo38Gj",
        "outputId": "92ddda8d-8d59-460c-93e7-55930707b153"
      },
      "execution_count": 85,
      "outputs": [
        {
          "output_type": "stream",
          "name": "stdout",
          "text": [
            "[nltk_data] Downloading package stopwords to /root/nltk_data...\n",
            "[nltk_data]   Package stopwords is already up-to-date!\n"
          ]
        }
      ]
    },
    {
      "cell_type": "code",
      "execution_count": 86,
      "metadata": {
        "id": "t7Ph83me3lr2"
      },
      "outputs": [],
      "source": [
        "def read_article(file_name):\n",
        "    \n",
        "    file = open(file_name,\"r\")\n",
        "    filedata = file.readlines() \n",
        "    print(\"Raw Text : \")\n",
        "    print(*filedata)\n",
        "    \n",
        "    \"\"\"z = []\n",
        "    print(len(filedata))\n",
        "\n",
        "    for i in range(len(filedata)):\n",
        "        a = filedata[i].replace(\"\\n\",\" \")\n",
        "        z.append(a)\"\"\"\n",
        "\n",
        "    #filedata = str(filedata).replace(\"\\n\", \"\")\n",
        "    article = list(filedata[0].split(\". \"))\n",
        "    #print(article)\n",
        "    global sentences\n",
        "    sentences = []\n",
        "\n",
        "    for sentence in article:\n",
        "        #print(\"\\nArticle - Sentence : \\n\", sentence)\n",
        "        sentences.append(sentence.replace(\"^[a-zA-Z]\",\" \").split(\" \"))\n",
        "\n",
        "    sentences.pop()    #Pop() will remove the last element that is space and make every word individual instead of sentence\n",
        "    \n",
        "    #print(\"\\n\\n\")\n",
        "    #print(*sentences)\n",
        "    #print(\"\\n\\n\")\n",
        "    return sentences\n",
        "\n",
        "file_name = \"testing.txt\"\n",
        "#read_article(file_name)"
      ]
    },
    {
      "cell_type": "code",
      "source": [
        ""
      ],
      "metadata": {
        "id": "HGf84q6p_NrN"
      },
      "execution_count": 86,
      "outputs": []
    },
    {
      "cell_type": "code",
      "source": [
        "def sentence_similarity(sent1, sent2, stopwords=None):\n",
        "    if stopwords is None:\n",
        "        stopwords = []\n",
        "\n",
        "    sent1 = [w.lower()for w in sent1]\n",
        "    sent2 = [w.lower()for w in sent2]\n",
        "\n",
        "    all_words = list(set(sent1+sent2))\n",
        "\n",
        "    vector1 = [0] * len(all_words)\n",
        "    vector2 = [0] * len(all_words)\n",
        "\n",
        "    for w in sent1:\n",
        "        if w in stopwords:\n",
        "            continue\n",
        "        vector1[all_words.index(w)] +=1\n",
        "\n",
        "    for w in sent2:\n",
        "        if w in stopwords:\n",
        "            continue\n",
        "        vector2[all_words.index(w)] +=1\n",
        "        \n",
        "        \n",
        "    return 1-cosine_distance(vector1,vector2)"
      ],
      "metadata": {
        "id": "n2IHjw444BSM"
      },
      "execution_count": 87,
      "outputs": []
    },
    {
      "cell_type": "code",
      "source": [
        "def gen_sim_matrix(sentences, stop_words):\n",
        "    similarity_matrix = np.zeros((len(sentences), len(sentences)))\n",
        "\n",
        "    for idx1 in range(len(sentences)):\n",
        "        for idx2 in range(len(sentences)):\n",
        "            if idx1 == idx2:\n",
        "                continue\n",
        "        similarity_matrix[idx1][idx2] = sentence_similarity(sentences[idx1], sentences[idx2], stop_words)\n",
        "  \n",
        "    return similarity_matrix  "
      ],
      "metadata": {
        "id": "4_9pKi3E4F8G"
      },
      "execution_count": 88,
      "outputs": []
    },
    {
      "cell_type": "code",
      "source": [
        "def generate_summary(file_name, top_n=5):  #top_n=5 means five lines \n",
        "    stop_words = stopwords.words('english')\n",
        "    summarize_text=[]\n",
        "    sentences = read_article(file_name)\n",
        "    sentence_similarity_matrix = gen_sim_matrix(sentences, stop_words)\n",
        "    sentence_similarity_graph = nx.from_numpy_array(sentence_similarity_matrix)\n",
        "    scores = nx.pagerank(sentence_similarity_graph)\n",
        "    ranked_sentence = sorted(((scores[i],s)for i,s in enumerate(sentences)),reverse=True)\n",
        "    for i in range(top_n):\n",
        "        summarize_text.append(\" \".join(ranked_sentence[i][1]))\n",
        "        \n",
        "    print(\"\\n\\nSUMMARY \\n\", \". \".join(summarize_text))"
      ],
      "metadata": {
        "id": "bM73USPp4VWr"
      },
      "execution_count": 89,
      "outputs": []
    },
    {
      "cell_type": "code",
      "source": [
        "generate_summary(\"testing1.txt\", 2)"
      ],
      "metadata": {
        "colab": {
          "base_uri": "https://localhost:8080/"
        },
        "id": "ubQrTvXy4ZoL",
        "outputId": "d944b39e-100e-4b3a-9108-4305d2ac3404"
      },
      "execution_count": 90,
      "outputs": [
        {
          "output_type": "stream",
          "name": "stdout",
          "text": [
            "Raw Text : \n",
            "Methods: Rules, statistics, neural networks In the early days, many language-processing systems were designed by symbolic methods, i.e., the hand-coding of a set of rules, coupled with a dictionary lookup:[13][14] such as by writing grammars or devising heuristic rules for stemming. More recent systems based on machine-learning algorithms have many advantages over hand-produced rules: The learning procedures used during machine learning automatically focus on the most common cases, whereas when writing rules by hand it is often not at all obvious where the effort should be directed. Automatic learning procedures can make use of statistical inference algorithms to produce models that are robust to unfamiliar input (e.g. containing words or structures that have not been seen before) and to erroneous input (e.g. with misspelled words or words accidentally omitted). Generally, handling such input gracefully with handwritten rules, or, more generally, creating systems of handwritten rules that make soft decisions, is extremely difficult, error-prone and time-consuming. Systems based on automatically learning the rules can be made more accurate simply by supplying more input data. However, systems based on handwritten rules can only be made more accurate by increasing the complexity of the rules, which is a much more difficult task. In particular, there is a limit to the complexity of systems based on handwritten rules, beyond which the systems become more and more unmanageable. However, creating more data to input to machine-learning systems simply requires a corresponding increase in the number of man-hours worked, generally without significant increases in the complexity of the annotation process. Despite the popularity of machine learning in NLP research, symbolic methods are still (2020) commonly used: when the amount of training data is insufficient to successfully apply machine learning methods, e.g., for the machine translation of low-resource languages such as pvided by the Apertium system, for preprocessing in NLP pipelines, e.g., tokenization, or for postprocessing and transforming the output of NLP pipelines, e.g., for knowledge extraction from syntactic parses.\n",
            "\n",
            "\n",
            "SUMMARY \n",
            " However, creating more data to input to machine-learning systems simply requires a corresponding increase in the number of man-hours worked, generally without significant increases in the complexity of the annotation process. Systems based on automatically learning the rules can be made more accurate simply by supplying more input data\n"
          ]
        }
      ]
    }
  ]
}